{
 "cells": [
  {
   "cell_type": "code",
   "execution_count": null,
   "metadata": {},
   "outputs": [],
   "source": [
    "from dataclasses_hierarchy import DataclassHierarchy, ChainedMethod, InitVar"
   ]
  },
  {
   "cell_type": "code",
   "execution_count": null,
   "metadata": {
    "pycharm": {
     "name": "#%%\n"
    }
   },
   "outputs": [],
   "source": [
    "class A(metaclass=DataclassHierarchy):\n",
    "    # Define some regular fields, with and without default values\n",
    "    a1: float\n",
    "    a2: str = \"Aloha\"\n",
    "    a3: int = 7\n",
    "    a_init1: InitVar[str] = \"Init var 1 of A\"\n",
    "    a_init2: InitVar[str] = \"Init var 2 of A\"\n",
    "\n",
    "    @ChainedMethod\n",
    "    def __post_init__(self, a_init1, a_init2):\n",
    "        print(f\"__post_init__ of A called with arguments a_init1={a_init1} and a_init2={a_init2}\")\n",
    "\n",
    "    @ChainedMethod\n",
    "    def foo(self):\n",
    "        print(\"Hello from foo in A\")\n",
    "\n",
    "    @foo.finalizer\n",
    "    def caca(self):\n",
    "        print(\"Hello from the foo finalizer in A\")\n"
   ]
  },
  {
   "cell_type": "code",
   "execution_count": null,
   "metadata": {
    "pycharm": {
     "name": "#%%\n"
    }
   },
   "outputs": [],
   "source": [
    "A(a1=1.0)"
   ]
  },
  {
   "cell_type": "code",
   "execution_count": null,
   "metadata": {
    "pycharm": {
     "name": "#%%\n"
    }
   },
   "outputs": [],
   "source": [
    "class B(A):\n",
    "    # Define other fields, now they must all have a default value\n",
    "    b1: int = 3\n",
    "    b2: str = \"I am B\"\n",
    "    a3: int = 8\n",
    "    b_init1: InitVar[str] = \"Init var 1 of B\"\n",
    "\n",
    "    @ChainedMethod\n",
    "    def __post_init__(self, b_init1):\n",
    "        print(f\"__post_init__ of B called with arguments b_init1={b_init1}\")\n",
    "\n",
    "    @ChainedMethod(stop_chain=False)\n",
    "    def foo(self):\n",
    "        print(\"Hello from foo in B\")\n",
    "\n",
    "    @foo.finalizer\n",
    "    def foo(self):\n",
    "        print(\"Hello from the foo finalizer\")\n"
   ]
  },
  {
   "cell_type": "code",
   "execution_count": null,
   "metadata": {
    "pycharm": {
     "name": "#%%\n"
    }
   },
   "outputs": [],
   "source": [
    "B(a1=1.0).foo()"
   ]
  },
  {
   "cell_type": "code",
   "execution_count": null,
   "metadata": {
    "pycharm": {
     "name": "#%%\n"
    }
   },
   "outputs": [],
   "source": [
    "B.b1\n",
    "'b1' in B"
   ]
  },
  {
   "cell_type": "code",
   "execution_count": null,
   "metadata": {
    "pycharm": {
     "name": "#%%\n"
    }
   },
   "outputs": [],
   "source": []
  }
 ],
 "metadata": {
  "kernelspec": {
   "display_name": "Python 3",
   "language": "python",
   "name": "python3"
  },
  "language_info": {
   "codemirror_mode": {
    "name": "ipython",
    "version": 2
   },
   "file_extension": ".py",
   "mimetype": "text/x-python",
   "name": "python",
   "nbconvert_exporter": "python",
   "pygments_lexer": "ipython2",
   "version": "2.7.6"
  }
 },
 "nbformat": 4,
 "nbformat_minor": 0
}
